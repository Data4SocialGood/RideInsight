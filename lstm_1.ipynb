{
 "cells": [
  {
   "cell_type": "code",
   "execution_count": null,
   "metadata": {},
   "outputs": [],
   "source": [
    "import pandas as pd\n",
    "import numpy as np\n",
    "import os\n",
    "from math import sqrt\n",
    "from matplotlib import pyplot as plt\n",
    "from sklearn.preprocessing import MinMaxScaler\n",
    "from sklearn.metrics import mean_squared_error\n",
    "from keras.models import Sequential\n",
    "from keras.layers import Dense, LSTM\n",
    "from keras.callbacks import EarlyStopping, ModelCheckpoint\n",
    "import datetime as dt\n"
   ]
  },
  {
   "cell_type": "code",
   "execution_count": null,
   "metadata": {},
   "outputs": [],
   "source": [
    "class LSTM_model:\n",
    "    \n",
    "    def __init__(self, input_shape, output_shape):\n",
    "        self.input_shape = input_shape\n",
    "        self.output_shape = output_shape\n",
    "        self.model = self.build_model()\n",
    "    \n",
    "    def build_model(self):\n",
    "        model = Sequential()\n",
    "        model.add(LSTM(units=64, input_shape=self.input_shape, return_sequences=True))\n",
    "        model.add(LSTM(units=32, return_sequences=False))\n",
    "        model.add(Dense(units=self.output_shape, activation='linear'))\n",
    "        model.compile(loss='mean_squared_error', optimizer='adam')\n",
    "        return model\n",
    "    \n",
    "    def train(self, train_X, train_y, test_X, test_y, num_epochs, batch_size):\n",
    "        # update with your_path\n",
    "        save_fname = os.path.join('your_path', '%s-e%s.h5' % (dt.datetime.now().strftime('%d%m%Y-%H%M%S'), str(num_epochs)))\n",
    "\n",
    "        callbacks = [EarlyStopping(monitor='val_loss', patience=50),\n",
    "                     ModelCheckpoint(filepath=save_fname, monitor='val_loss',save_best_only=True)]\n",
    "        history = self.model.fit(train_X, train_y, epochs=num_epochs, batch_size=batch_size, verbose=1,\n",
    "                             validation_data=(test_X, test_y), callbacks=callbacks)\n",
    "        self.model.save(save_fname)\n",
    "        return history\n",
    "        \n",
    "    def evaluate(self, test_X, test_y):\n",
    "        loss = self.model.evaluate(test_X, test_y)\n",
    "        return loss\n",
    "\n",
    "    def predict(self, test_X):\n",
    "        y_pred = self.model.predict(test_X)\n",
    "        return y_pred\n"
   ]
  },
  {
   "cell_type": "code",
   "execution_count": null,
   "metadata": {},
   "outputs": [],
   "source": [
    "# inputs.csv, outputs.csv -> dataset created with test3.py\n",
    "X_i = pd.read_csv('inputs.csv', delimiter=',', header=None)\n",
    "y_i = pd.read_csv('outputs.csv', delimiter=',', header=None).T"
   ]
  },
  {
   "cell_type": "code",
   "execution_count": null,
   "metadata": {},
   "outputs": [],
   "source": [
    "look_back = 5\n",
    "num_samples = X_i.shape[0] - look_back\n",
    "num_samples_groups = int(num_samples/(look_back))\n",
    "num_features = 13\n",
    "\n",
    "X_ = np.zeros((num_samples_groups, look_back, num_features))\n",
    "y_ = np.zeros((num_samples_groups, 1))\n",
    "\n",
    "for i in range(0, num_samples, look_back):\n",
    "    idx = int(i/look_back)\n",
    "    X_[idx,:,:] = X_i.iloc[i:i+look_back,:]\n",
    "    y_[idx, 0] = y_i.iloc[idx]\n",
    "\n",
    "\n",
    "print('Num input samples : ', num_samples + look_back)\n",
    "\n",
    "train_size = int(0.7 * num_samples_groups)\n",
    "train_X, train_y = X_[:train_size], y_[:train_size]\n",
    "test_X, test_y = X_[train_size: ], y_[train_size:]"
   ]
  },
  {
   "cell_type": "code",
   "execution_count": null,
   "metadata": {},
   "outputs": [],
   "source": [
    "print(train_X.shape, train_y.shape, test_X.shape, test_y.shape)"
   ]
  },
  {
   "cell_type": "code",
   "execution_count": null,
   "metadata": {},
   "outputs": [],
   "source": [
    "model = LSTM_model((look_back, num_features), 1)"
   ]
  },
  {
   "cell_type": "code",
   "execution_count": null,
   "metadata": {},
   "outputs": [],
   "source": [
    "epochs = 10\n",
    "batch_size = 64"
   ]
  },
  {
   "cell_type": "code",
   "execution_count": null,
   "metadata": {},
   "outputs": [],
   "source": [
    "history = model.train(train_X, train_y, test_X, test_y, epochs, batch_size)"
   ]
  },
  {
   "cell_type": "code",
   "execution_count": null,
   "metadata": {},
   "outputs": [],
   "source": [
    "predictions = model.predict(test_X)"
   ]
  },
  {
   "cell_type": "code",
   "execution_count": null,
   "metadata": {},
   "outputs": [],
   "source": [
    "# Evaluate the model\n",
    "loss = model.evaluate(test_X, test_y)\n",
    "print(\"Mean, std deviation\")\n",
    "print(\"%.2f%% (+/- %.2f%%)\" % (np.mean(loss)*100, np.std(loss)*100))"
   ]
  },
  {
   "cell_type": "code",
   "execution_count": null,
   "metadata": {},
   "outputs": [],
   "source": [
    "# Plot history\n",
    "plt.plot(history.history['loss'], label='train_loss')\n",
    "plt.plot(history.history['val_loss'], label='val_loss')\n",
    "plt.legend()\n",
    "plt.show()"
   ]
  },
  {
   "cell_type": "code",
   "execution_count": null,
   "metadata": {},
   "outputs": [],
   "source": [
    "# calculate RMSE\n",
    "rmse = sqrt(mean_squared_error(test_y, predictions))\n",
    "print('Test RMSE: %.3f' % rmse)"
   ]
  },
  {
   "cell_type": "code",
   "execution_count": null,
   "metadata": {},
   "outputs": [],
   "source": [
    "difference= abs(test_y - predictions)\n",
    "median_value = np.median(difference)\n",
    "mean_value = np.mean(difference)\n",
    "\n",
    "# Plot difference, mean, median\n",
    "plt.plot(difference, label='Difference')\n",
    "plt.axhline(mean_value, color='r', linestyle='--', label='Difference Mean Value')\n",
    "plt.axhline(median_value, color='g', linestyle='--', label='Difference Median')\n",
    "plt.xlabel('Stop_order')\n",
    "plt.ylabel('Difference')\n",
    "plt.legend()\n",
    "\n",
    "plt.text(0, mean_value, f'Mean: {mean_value: .3f}', color='r', ha='right', va='bottom')\n",
    "plt.text(0, median_value, f'Median: {median_value:.3f}', color='g', ha='right', va='top')\n",
    "plt.show()\n"
   ]
  },
  {
   "cell_type": "code",
   "execution_count": null,
   "metadata": {},
   "outputs": [],
   "source": [
    "\n",
    "# Plot actual vs predicted values\n",
    "plt.plot(test_y, label='Test Data')\n",
    "plt.plot(predictions, label='Predictions')\n",
    "\n",
    "plt.xlabel('Stop_order')\n",
    "plt.ylabel('Ridership')\n",
    "plt.legend()\n",
    "\n",
    "plt.show()"
   ]
  }
 ],
 "metadata": {
  "kernelspec": {
   "display_name": "Python 3",
   "language": "python",
   "name": "python3"
  },
  "language_info": {
   "codemirror_mode": {
    "name": "ipython",
    "version": 3
   },
   "file_extension": ".py",
   "mimetype": "text/x-python",
   "name": "python",
   "nbconvert_exporter": "python",
   "pygments_lexer": "ipython3",
   "version": "3.10.6"
  },
  "orig_nbformat": 4
 },
 "nbformat": 4,
 "nbformat_minor": 2
}
